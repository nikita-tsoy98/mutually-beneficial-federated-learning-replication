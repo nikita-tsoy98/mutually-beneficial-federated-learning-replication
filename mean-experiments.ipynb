{
 "cells": [
  {
   "cell_type": "code",
   "execution_count": 1,
   "metadata": {},
   "outputs": [],
   "source": [
    "import numpy as np\n",
    "import matplotlib\n",
    "import matplotlib.pyplot as plt\n",
    "from tqdm.notebook import tqdm\n",
    "\n",
    "matplotlib.use(\"pgf\")\n",
    "matplotlib.rcParams.update({\n",
    "    'pgf.texsystem': 'pdflatex',\n",
    "    'text.usetex': True,\n",
    "})\n",
    "%config InlineBackend.figure_format = 'retina'"
   ]
  },
  {
   "cell_type": "code",
   "execution_count": 2,
   "metadata": {},
   "outputs": [],
   "source": [
    "def bayes_utilities(betas, lams, rho, tau):\n",
    "    Gamma = betas.sum()\n",
    "    gammas = Gamma - betas\n",
    "    us = (rho - betas)**2 / rho**2 / (Gamma + tau) \\\n",
    "        - 1 / tau - betas / rho**2\\\n",
    "        + lams * gammas / (rho + tau) / (gammas + rho + tau)\n",
    "    return us\n",
    "\n",
    "def dp_utilities(betas, lams, rho, kappa, eps=1e-8):\n",
    "    Gamma = betas.sum()\n",
    "    gammas = Gamma - betas\n",
    "    us = -kappa**2 * rho * betas / (rho - betas + eps) + \\\n",
    "        lams * gammas / rho / (rho + gammas)\n",
    "    return us"
   ]
  },
  {
   "cell_type": "code",
   "execution_count": 3,
   "metadata": {},
   "outputs": [],
   "source": [
    "def grid_search_best_beta(\n",
    "    weights_fn, utility_fn, lams, rho, grid_size=100, eps=1e-8, **params\n",
    "):\n",
    "    weights = weights_fn(lams, rho, **params)\n",
    "    init_b = rho / (weights.max() + eps)\n",
    "    for b in np.linspace(init_b, 0, grid_size):\n",
    "        betas = weights * b\n",
    "        if (utility_fn(betas, lams, rho, **params) >= 0).all():\n",
    "            return betas\n",
    "    return weights * 0"
   ]
  },
  {
   "cell_type": "code",
   "execution_count": 4,
   "metadata": {},
   "outputs": [],
   "source": [
    "def simple_weights(lams, rho, **kwargs):\n",
    "    return np.ones_like(lams)\n",
    "\n",
    "def xi_weights(lams, rho, tau, **kwargs):\n",
    "    nominator = lams / (rho + tau)**2 - 1 / tau**2\n",
    "    nominator = nominator.clip(0)\n",
    "    denominator = nominator + (rho + tau)**2 / tau**2 / rho**2\n",
    "    return nominator / denominator\n",
    "\n",
    "def zeta_weights(lams, rho, kappa, **kwargs):\n",
    "    zetas = lams / (lams + kappa**2 * rho**2)\n",
    "    return zetas"
   ]
  },
  {
   "cell_type": "code",
   "execution_count": 5,
   "metadata": {},
   "outputs": [],
   "source": [
    "def compare_accs_experiment(\n",
    "    tries, rho,\n",
    "    lams_fn,\n",
    "    lams_params,\n",
    "    utility_fn,\n",
    "    simple_weights_fn,\n",
    "    our_weigths_fn,\n",
    "    utility_params\n",
    "):\n",
    "    simple_Gammas = np.empty(tries)\n",
    "    our_Gammas = np.empty(tries)\n",
    "    for t in range(tries):\n",
    "        lams = lams_fn(**lams_params)\n",
    "        betas = grid_search_best_beta(\n",
    "            simple_weights_fn, utility_fn, lams, rho, **utility_params\n",
    "        )\n",
    "        simple_Gammas[t] = betas.sum()\n",
    "        betas = grid_search_best_beta(\n",
    "            our_weigths_fn, utility_fn, lams, rho, **utility_params\n",
    "        )\n",
    "        our_Gammas[t] = betas.sum()\n",
    "    return simple_Gammas, our_Gammas"
   ]
  },
  {
   "cell_type": "code",
   "execution_count": 6,
   "metadata": {},
   "outputs": [],
   "source": [
    "rng = np.random.default_rng(seed=179)"
   ]
  },
  {
   "cell_type": "code",
   "execution_count": 7,
   "metadata": {},
   "outputs": [],
   "source": [
    "#common parameters\n",
    "N = 5\n",
    "n = 100\n",
    "sigma = 10.0\n",
    "rho = n / sigma**2"
   ]
  },
  {
   "cell_type": "code",
   "execution_count": 8,
   "metadata": {},
   "outputs": [
    {
     "data": {
      "application/vnd.jupyter.widget-view+json": {
       "model_id": "0936db81a5974c429f50b1de150a64b0",
       "version_major": 2,
       "version_minor": 0
      },
      "text/plain": [
       "  0%|          | 0/9 [00:00<?, ?it/s]"
      ]
     },
     "metadata": {},
     "output_type": "display_data"
    }
   ],
   "source": [
    "#dp parameters\n",
    "B = 20.0\n",
    "kappa = (2 * np.log(1.25 * n**2))**0.5 * B / n\n",
    "\n",
    "dp_params = {\"kappa\": kappa}\n",
    "\n",
    "tries = 300\n",
    "lams_fn = lambda **x: rng.lognormal(**x)\n",
    "\n",
    "grid_size = 9\n",
    "our_results = np.empty(grid_size)\n",
    "our_std = np.empty(grid_size)\n",
    "simple_results = np.empty(grid_size)\n",
    "simple_std = np.empty(grid_size)\n",
    "grid = np.linspace(-2.5, 3.5, grid_size)\n",
    "\n",
    "for t, mean in enumerate(tqdm(grid)):\n",
    "    lams_params = {\"mean\": mean, \"sigma\": 1.0, \"size\": N}\n",
    "    simple_Gammas, our_Gammas = compare_accs_experiment(\n",
    "        tries, rho,\n",
    "        lams_fn, lams_params,\n",
    "        dp_utilities, simple_weights, zeta_weights, dp_params\n",
    "    )\n",
    "    our_Gammas /= N * rho\n",
    "    simple_Gammas /= N * rho\n",
    "    our_results[t] = our_Gammas.mean()\n",
    "    our_std[t] = our_Gammas.std(ddof=1) / tries**0.5\n",
    "    simple_results[t] = simple_Gammas.mean()\n",
    "    simple_std[t] = simple_Gammas.std(ddof=1) / tries**0.5\n",
    "results = [(grid, our_results, our_std, simple_results, simple_std)]"
   ]
  },
  {
   "cell_type": "code",
   "execution_count": 9,
   "metadata": {},
   "outputs": [
    {
     "data": {
      "application/vnd.jupyter.widget-view+json": {
       "model_id": "3cee975114f044c48afbad61f5ad4e1b",
       "version_major": 2,
       "version_minor": 0
      },
      "text/plain": [
       "  0%|          | 0/9 [00:00<?, ?it/s]"
      ]
     },
     "metadata": {},
     "output_type": "display_data"
    }
   ],
   "source": [
    "#bayes parameters\n",
    "tau = 1.0\n",
    "\n",
    "bayes_params = {\"tau\": tau}\n",
    "\n",
    "tries = 300\n",
    "lams_fn = lambda **x: rng.lognormal(**x)\n",
    "\n",
    "grid_size = 9\n",
    "our_results = np.empty(grid_size)\n",
    "our_std = np.empty(grid_size)\n",
    "simple_results = np.empty(grid_size)\n",
    "simple_std = np.empty(grid_size)\n",
    "grid = np.linspace(1.5, 4.5, grid_size)\n",
    "\n",
    "for t, mean in enumerate(tqdm(grid)):\n",
    "    lams_params = {\"mean\": mean, \"sigma\": 1.0, \"size\": N}\n",
    "    simple_Gammas, our_Gammas = compare_accs_experiment(\n",
    "        tries, rho,\n",
    "        lams_fn, lams_params,\n",
    "        bayes_utilities, simple_weights, xi_weights, bayes_params\n",
    "    )\n",
    "    our_Gammas /= N * rho\n",
    "    simple_Gammas /= N * rho\n",
    "    our_results[t] = our_Gammas.mean()\n",
    "    our_std[t] = our_Gammas.std(ddof=1) / tries**0.5\n",
    "    simple_results[t] = simple_Gammas.mean()\n",
    "    simple_std[t] = simple_Gammas.std(ddof=1) / tries**0.5\n",
    "results.append((grid, our_results, our_std, simple_results, simple_std))"
   ]
  },
  {
   "cell_type": "code",
   "execution_count": null,
   "metadata": {},
   "outputs": [],
   "source": [
    "plt.close()\n",
    "\n",
    "fig, axes = plt.subplots(2, 1)\n",
    "\n",
    "fig.set_size_inches(w=3.55, h=4.5)\n",
    "\n",
    "ax = axes[0]\n",
    "grid, our_results, our_std, simple_results, simple_std = results[0]\n",
    "\n",
    "ax.errorbar(grid, our_results, yerr=our_std,\n",
    "            label=\"personalized\", linewidth=0.7)\n",
    "ax.errorbar(grid, simple_results, yerr=simple_std,\n",
    "            label=\"symmetric\", linewidth=0.7)\n",
    "#ax.plot(grid, our_results, label=\"personalized\")\n",
    "#ax.plot(grid, simple_results, label=\"symmetric\")\n",
    "size = 8\n",
    "plt.setp(ax.spines.values(), linewidth=0.5)\n",
    "ax.tick_params(width=0.5)\n",
    "ax.legend(fontsize=size)\n",
    "#ax.set_xlabel(\n",
    "#    r\"Mean Importance of Accuracy ($\\mathbf{E}(\\ln \\lambda)$)\",\n",
    "#    fontsize=size)\n",
    "ax.set_ylabel(\n",
    "    r\"Protocol Effectiveness ($\\Gamma / \\Gamma^*$)\",\n",
    "    labelpad=1, fontsize=size\n",
    ")\n",
    "ax.tick_params(axis='both', labelsize=7)\n",
    "\n",
    "ax = axes[1]\n",
    "grid, our_results, our_std, simple_results, simple_std = results[1]\n",
    "\n",
    "ax.errorbar(grid, our_results, yerr=our_std,\n",
    "            label=\"personalized\", linewidth=0.7)\n",
    "ax.errorbar(grid, simple_results, yerr=simple_std,\n",
    "            label=\"symmetric\", linewidth=0.7)\n",
    "#ax.plot(grid, our_results, label=\"personalized\")\n",
    "#ax.plot(grid, simple_results, label=\"symmetric\")\n",
    "plt.setp(ax.spines.values(), linewidth=0.5)\n",
    "ax.tick_params(width=0.5)\n",
    "ax.legend(fontsize=size)\n",
    "ax.set_xlabel(\n",
    "    r\"Mean Accuracy Importance ($\\mathbf{E}(\\ln \\lambda)$)\",\n",
    "    labelpad=1, fontsize=size)\n",
    "ax.set_ylabel(\n",
    "    r\"Protocol Effectiveness ($\\Gamma / \\Gamma^*$)\",\n",
    "    labelpad=1, fontsize=size\n",
    ")\n",
    "ax.tick_params(axis='both', labelsize=7)\n",
    "plt.gcf().tight_layout()\n",
    "plt.savefig('exp-mean.pgf', bbox_inches='tight', pad_inches=0)"
   ]
  },
  {
   "cell_type": "code",
   "execution_count": null,
   "metadata": {},
   "outputs": [],
   "source": []
  }
 ],
 "metadata": {
  "kernelspec": {
   "display_name": "Python 3",
   "language": "python",
   "name": "python3"
  },
  "language_info": {
   "codemirror_mode": {
    "name": "ipython",
    "version": 3
   },
   "file_extension": ".py",
   "mimetype": "text/x-python",
   "name": "python",
   "nbconvert_exporter": "python",
   "pygments_lexer": "ipython3",
   "version": "3.11.6"
  }
 },
 "nbformat": 4,
 "nbformat_minor": 2
}
